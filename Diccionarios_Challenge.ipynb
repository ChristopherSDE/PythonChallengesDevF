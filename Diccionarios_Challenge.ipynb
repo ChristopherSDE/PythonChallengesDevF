{
  "nbformat": 4,
  "nbformat_minor": 0,
  "metadata": {
    "colab": {
      "name": "Copia de Diccionarios Challenge.ipynb",
      "provenance": [],
      "collapsed_sections": []
    },
    "kernelspec": {
      "name": "python3",
      "display_name": "Python 3"
    },
    "language_info": {
      "name": "python"
    }
  },
  "cells": [
    {
      "cell_type": "markdown",
      "source": [
        "1.-Escribir un programa que guarde en una variable el diccionario {'Euro':'€', 'Dollar':'$', 'Yen':'¥'}, pregunte al usuario por una divisa y muestre su símbolo o un mensaje de aviso si la divisa no está en el diccionario."
      ],
      "metadata": {
        "id": "3LRtdYgIh7Dr"
      }
    },
    {
      "cell_type": "code",
      "source": [
        "# Escribe aqui tu codigo\n",
        "divisas = {'Euro':'€', 'Dollar':'$', 'Yen':'¥'}\n",
        "\n",
        "print(\"Que divisa desea abrir?\")\n",
        "opcion = input()\n",
        "\n",
        "\n",
        "if opcion in divisas: \n",
        "  print('Tu Divisa es: ', divisas.get(opcion))\n",
        "else:\n",
        "  print('No tengo tu divisa, quieres volver a intentar?')\n",
        "\n",
        "\n"
      ],
      "metadata": {
        "id": "Jraiq1jmh8z5",
        "colab": {
          "base_uri": "https://localhost:8080/"
        },
        "outputId": "f72ab9fd-17d2-4d39-abc2-6de16a504f39"
      },
      "execution_count": 10,
      "outputs": [
        {
          "output_type": "stream",
          "name": "stdout",
          "text": [
            "Que divisa desea abrir?\n",
            "Pesos\n",
            "No tengo tu divisa, quieres volver a intentar?\n"
          ]
        }
      ]
    },
    {
      "cell_type": "markdown",
      "source": [
        "2.-Escribir un programa que pregunte al usuario su nombre, edad, dirección y teléfono y lo guarde en un diccionario. Después debe mostrar por pantalla el mensaje tiene años, vive en <dirección> y su número de teléfono es <teléfono>."
      ],
      "metadata": {
        "id": "C0vBw1VMh9NT"
      }
    },
    {
      "cell_type": "code",
      "source": [
        "# Escribe aqui tu codigo\n",
        "dic_User = {'Nombre': '','Edad':'' , 'Direccion':'','Telefono':''}\n",
        "#print(dic_User)\n",
        "up_nombre = input('Ingresa tu nombre: ')\n",
        "dic_User['Nombre']=up_nombre \n",
        "up_edad = input('Ingresa tu edad: ')\n",
        "dic_User['Edad']=up_edad\n",
        "up_dir = input('Ingresa tu direccion: ')\n",
        "dic_User['Direccion']=up_dir\n",
        "up_tel = input('Ingresa tu Telefono: ')\n",
        "dic_User['Telefono']=up_tel\n",
        "\n",
        "print('El usuario se llama ', dic_User.get('Nombre'), 'Tiene ', dic_User.get('Edad'),'años, vive en ',dic_User.get('Direccion'), 'y su telefono es ',dic_User.get('Telefono'))\n",
        "\n",
        "\n",
        "\n",
        "\n",
        "\n",
        "#print(dic_User.values())\n",
        "\n"
      ],
      "metadata": {
        "id": "FYlcftofiDry",
        "colab": {
          "base_uri": "https://localhost:8080/"
        },
        "outputId": "4076b3aa-272d-455c-d121-17bed5e8c491"
      },
      "execution_count": 24,
      "outputs": [
        {
          "output_type": "stream",
          "name": "stdout",
          "text": [
            "{'Nombre': '', 'Edad': '', 'Direccion': '', 'Telefono': ''}\n",
            "Ingresa tu nombre: Todd\n",
            "Ingresa tu edad: 3\n",
            "Ingresa tu direccion: Casa Azul 105\n",
            "Ingresa tu Telefono: 2183367\n",
            "El usuario se llama  Todd Tiene  3 años, vive en  Casa Azul 105 y su telefono es  2183367\n",
            "dict_values(['Todd', '3', 'Casa Azul 105', '2183367'])\n"
          ]
        }
      ]
    },
    {
      "cell_type": "markdown",
      "source": [
        "3.-Escribir un programa que cree un diccionario vacío y lo vaya llenado con información sobre una persona (por ejemplo nombre, edad, sexo, teléfono, correo electrónico, etc.) que se le pida al usuario. Cada vez que se añada un nuevo dato debe imprimirse el contenido del diccionario."
      ],
      "metadata": {
        "id": "5txz3j5ViK3V"
      }
    },
    {
      "cell_type": "code",
      "source": [
        "# Escribe aqui tu codigo\n",
        "dic_User2 = dic_User.copy()\n",
        "dic_User2.clear()\n",
        "print(dic_User2)\n",
        "\n",
        "dic_User2[\"Nombre\"] = input(\"Me das tu nombre?\")\n",
        "print(dic_User2)\n",
        "dic_User2[\"Edad\"] = input(\"Me das tu edad?\")\n",
        "print(dic_User2)\n",
        "dic_User2[\"Sexo\"] = input(\"Me das tu sexo?\")\n",
        "print(dic_User2)\n",
        "dic_User2[\"Telefono\"] = input(\"Me das tu Telefono?\")\n",
        "print(dic_User2)"
      ],
      "metadata": {
        "id": "f_176O-JiL28",
        "colab": {
          "base_uri": "https://localhost:8080/"
        },
        "outputId": "f5bd5880-dab5-4860-986d-ec1cf3744525"
      },
      "execution_count": 31,
      "outputs": [
        {
          "output_type": "stream",
          "name": "stdout",
          "text": [
            "{}\n",
            "Me das tu nombre?Todd\n",
            "{'Nombre': 'Todd'}\n",
            "Me das tu edad?1000\n",
            "{'Nombre': 'Todd', 'Edad': '1000'}\n",
            "Me das tu sexo?Machito\n",
            "{'Nombre': 'Todd', 'Edad': '1000', 'Sexo': 'Machito'}\n",
            "Me das tu Telefono?911\n",
            "{'Nombre': 'Todd', 'Edad': '1000', 'Sexo': 'Machito', 'Telefono': '911'}\n"
          ]
        }
      ]
    }
  ]
}