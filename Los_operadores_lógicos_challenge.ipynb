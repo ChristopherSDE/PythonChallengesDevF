{
  "nbformat": 4,
  "nbformat_minor": 0,
  "metadata": {
    "colab": {
      "name": "Copia de Los operadores lógicos - challenge.ipynb",
      "provenance": [],
      "collapsed_sections": []
    },
    "kernelspec": {
      "name": "python3",
      "display_name": "Python 3"
    },
    "language_info": {
      "name": "python"
    }
  },
  "cells": [
    {
      "cell_type": "markdown",
      "metadata": {
        "id": "VEn_SLPyboN0"
      },
      "source": [
        "#Los operadores lógicos \n",
        "\n"
      ]
    },
    {
      "cell_type": "markdown",
      "metadata": {
        "id": "P1vqdpRJQMv6"
      },
      "source": [
        "Recordemos los operadores de comparación\n",
        "\n",
        "![img1](https://facialix.com/images/cond.png)"
      ]
    },
    {
      "cell_type": "markdown",
      "metadata": {
        "id": "jXKTPrImShCj"
      },
      "source": [
        "y veamos algunos ejemplos de los operadores logicos en acción\n",
        "\n",
        "![img2](https://facialix.com/images/logicos.png)"
      ]
    },
    {
      "cell_type": "markdown",
      "metadata": {
        "id": "Ltf91jwLSB_d"
      },
      "source": [
        "**En este ejercicio debes mostrar el valor que se obtiene de las sentencias al ejecutarlas en codigo y explicarlas:**"
      ]
    },
    {
      "cell_type": "markdown",
      "metadata": {
        "id": "8CXLWwF2TS5D"
      },
      "source": [
        "1) **not true**"
      ]
    },
    {
      "cell_type": "code",
      "metadata": {
        "id": "dn0D2e0wB4mv",
        "colab": {
          "base_uri": "https://localhost:8080/"
        },
        "outputId": "c8e482f0-1ae4-4ebb-a48b-b3c2fb78072b"
      },
      "source": [
        "#Escribe el codigo aquí\n",
        "\n",
        "not 1 == 1\n"
      ],
      "execution_count": 1,
      "outputs": [
        {
          "output_type": "execute_result",
          "data": {
            "text/plain": [
              "False"
            ]
          },
          "metadata": {},
          "execution_count": 1
        }
      ]
    },
    {
      "cell_type": "markdown",
      "metadata": {
        "id": "LIIjBScjETLc"
      },
      "source": [
        "Escribe el explicacion aquí \n",
        "\n",
        "🖍 ..."
      ]
    },
    {
      "cell_type": "markdown",
      "metadata": {
        "id": "JGlH_p9ll3yO"
      },
      "source": [
        "2) **not (1+2 != 3)**"
      ]
    },
    {
      "cell_type": "code",
      "metadata": {
        "id": "_hobkTpAUEB4",
        "colab": {
          "base_uri": "https://localhost:8080/"
        },
        "outputId": "0fb7bd07-4f9f-4368-d8ab-d7300a14c09d"
      },
      "source": [
        "#Escribe el codigo aquí\n",
        "not (1+2 != 3)\n",
        "\n"
      ],
      "execution_count": 2,
      "outputs": [
        {
          "output_type": "execute_result",
          "data": {
            "text/plain": [
              "True"
            ]
          },
          "metadata": {},
          "execution_count": 2
        }
      ]
    },
    {
      "cell_type": "markdown",
      "metadata": {
        "id": "0Gw_3yeSFKRf"
      },
      "source": [
        "Escribe el explicacion aquí \n",
        "\n",
        "🖍 ..."
      ]
    },
    {
      "cell_type": "markdown",
      "metadata": {
        "id": "nTis6gKvoNkm"
      },
      "source": [
        "3) **x = (len(\"jugar\") > 5) and (len(\"jugar\") < 10)**"
      ]
    },
    {
      "cell_type": "code",
      "metadata": {
        "id": "I3I7VbTdoin4"
      },
      "source": [
        "#Escribe el codigo aquí\n",
        "x = (len(\"jugar\") > 5) and (len(\"jugar\") < 10)"
      ],
      "execution_count": 4,
      "outputs": []
    },
    {
      "cell_type": "markdown",
      "metadata": {
        "id": "Zml_nA0vFPqR"
      },
      "source": [
        "Escribe el explicacion aquí \n",
        "\n",
        "🖍 ..."
      ]
    },
    {
      "cell_type": "markdown",
      "metadata": {
        "id": "HOwNy5VOorNy"
      },
      "source": [
        "4) **\"alto\"[2] == \"t\" and x**"
      ]
    },
    {
      "cell_type": "code",
      "metadata": {
        "id": "mZx6iGmeoqEA",
        "colab": {
          "base_uri": "https://localhost:8080/"
        },
        "outputId": "d0e200e9-2508-4ecf-8267-2891811a2e89"
      },
      "source": [
        "#Escribe el codigo aquí\n",
        "\n",
        "\"alto\"[2] == \"t\" and x\n"
      ],
      "execution_count": 5,
      "outputs": [
        {
          "output_type": "execute_result",
          "data": {
            "text/plain": [
              "False"
            ]
          },
          "metadata": {},
          "execution_count": 5
        }
      ]
    },
    {
      "cell_type": "markdown",
      "metadata": {
        "id": "ze-L4sA0FZv1"
      },
      "source": [
        "Escribe el explicacion aquí \n",
        "\n",
        "🖍 ..."
      ]
    },
    {
      "cell_type": "markdown",
      "metadata": {
        "id": "cCqs1tjHNpv4"
      },
      "source": [
        "5) **842913%10 != 3 and len(\"café\") == 3**"
      ]
    },
    {
      "cell_type": "code",
      "metadata": {
        "id": "70-kC-f9oqAe",
        "colab": {
          "base_uri": "https://localhost:8080/"
        },
        "outputId": "89c57074-f221-4bcc-f73d-4d4328d7ff22"
      },
      "source": [
        "#Escribe el codigo aquí\n",
        "842913%10 != 3 and len(\"café\") == 3\n",
        "\n"
      ],
      "execution_count": 6,
      "outputs": [
        {
          "output_type": "execute_result",
          "data": {
            "text/plain": [
              "False"
            ]
          },
          "metadata": {},
          "execution_count": 6
        }
      ]
    },
    {
      "cell_type": "markdown",
      "metadata": {
        "id": "TpDnFFjcGdkj"
      },
      "source": [
        "Escribe el explicacion aquí \n",
        "\n",
        "🖍 ..."
      ]
    },
    {
      "cell_type": "markdown",
      "metadata": {
        "id": "ato2HirpOAy9"
      },
      "source": [
        "6) **0!=0 or \"a\" < \"y\"**"
      ]
    },
    {
      "cell_type": "code",
      "metadata": {
        "id": "r4NtOzm3op94",
        "colab": {
          "base_uri": "https://localhost:8080/"
        },
        "outputId": "23faca58-722a-4598-ea29-0dca7324fe29"
      },
      "source": [
        "#Escribe el codigo aquí\n",
        "0!=0 or \"a\" < \"y\"\n",
        "\n"
      ],
      "execution_count": 7,
      "outputs": [
        {
          "output_type": "execute_result",
          "data": {
            "text/plain": [
              "True"
            ]
          },
          "metadata": {},
          "execution_count": 7
        }
      ]
    },
    {
      "cell_type": "markdown",
      "metadata": {
        "id": "Roy4PanwGfxi"
      },
      "source": [
        "Escribe el explicacion aquí \n",
        "\n",
        "🖍 ..."
      ]
    },
    {
      "cell_type": "markdown",
      "metadata": {
        "id": "5W25SYZeORtE"
      },
      "source": [
        "7) **True or int(\"50\") >= 50**"
      ]
    },
    {
      "cell_type": "code",
      "metadata": {
        "id": "mTpYdCzFop7s",
        "colab": {
          "base_uri": "https://localhost:8080/"
        },
        "outputId": "98944223-dd17-4774-8a24-de73f34f6f03"
      },
      "source": [
        "#Escribe el codigo aquí\n",
        "True or int(\"50\") >= 50\n",
        "\n"
      ],
      "execution_count": 8,
      "outputs": [
        {
          "output_type": "execute_result",
          "data": {
            "text/plain": [
              "True"
            ]
          },
          "metadata": {},
          "execution_count": 8
        }
      ]
    },
    {
      "cell_type": "markdown",
      "metadata": {
        "id": "hMZpEBHCGkqJ"
      },
      "source": [
        "Escribe el explicacion aquí \n",
        "\n",
        "🖍 ..."
      ]
    },
    {
      "cell_type": "markdown",
      "metadata": {
        "id": "Dp4beMsqOhOh"
      },
      "source": [
        "8) **edad = 20**\n",
        "\n",
        "**not(x) or edad%2==0**"
      ]
    },
    {
      "cell_type": "code",
      "metadata": {
        "id": "bTco9wG8op5G",
        "colab": {
          "base_uri": "https://localhost:8080/"
        },
        "outputId": "161ff455-9633-4643-f297-062718d4271f"
      },
      "source": [
        "#Escribe el codigo aquí\n",
        "edad = 20\n",
        "\n",
        "not(x) or edad%2==0\n",
        "\n"
      ],
      "execution_count": 9,
      "outputs": [
        {
          "output_type": "execute_result",
          "data": {
            "text/plain": [
              "True"
            ]
          },
          "metadata": {},
          "execution_count": 9
        }
      ]
    },
    {
      "cell_type": "markdown",
      "metadata": {
        "id": "AyH5LeZ4HgaZ"
      },
      "source": [
        "Escribe el explicacion aquí \n",
        "\n",
        "🖍 ..."
      ]
    },
    {
      "cell_type": "markdown",
      "metadata": {
        "id": "QXou2mt7Oy4r"
      },
      "source": [
        "9) **es_cliente = False**\n",
        "\n",
        "**not (es_cliente and not(edad < 18))**"
      ]
    },
    {
      "cell_type": "code",
      "metadata": {
        "id": "-p3G0qH3op2X",
        "colab": {
          "base_uri": "https://localhost:8080/"
        },
        "outputId": "0a3dfa22-5b03-4d04-d4cb-adf13a273cca"
      },
      "source": [
        "#Escribe el codigo aquí\n",
        "es_cliente = False\n",
        "\n",
        "not (es_cliente and not(edad < 18))\n",
        "\n"
      ],
      "execution_count": 10,
      "outputs": [
        {
          "output_type": "execute_result",
          "data": {
            "text/plain": [
              "True"
            ]
          },
          "metadata": {},
          "execution_count": 10
        }
      ]
    },
    {
      "cell_type": "markdown",
      "metadata": {
        "id": "hBpjtW7iHhW8"
      },
      "source": [
        "Escribe el explicacion aquí \n",
        "\n",
        "🖍 ..."
      ]
    },
    {
      "cell_type": "markdown",
      "metadata": {
        "id": "_jKHKuBkbxhX"
      },
      "source": [
        "###Recursos extra para estudiar y ejercios\n"
      ]
    },
    {
      "cell_type": "markdown",
      "metadata": {
        "id": "86XEDrCbdBCr"
      },
      "source": [
        "- Video corto de Coursera: [Tablas de verdad y álgebra booleana](https://www.coursera.org/lecture/programacion-python/tablas-de-verdad-y-algebra-booleana-JJs0E)\n",
        "- Articulo corto de [Tablas de la verdad](https://www.ecured.cu/Tablas_de_la_verdad)\n",
        "- Ejercicios practicos en portal de [Tablas de Verdad](https://www.edu.xunta.gal/espazoAbalar/sites/espazoAbalar/files/datos/1493724904/contido/tablas_de_verdad.html)\n",
        "- Guía de [Ejercicios de Lógica](https://www.fing.edu.uy/tecnoinf/mvd/cursos/mdl1/material/pra/buceo_noct/mdl1-pr-logica.pdf)"
      ]
    }
  ]
}